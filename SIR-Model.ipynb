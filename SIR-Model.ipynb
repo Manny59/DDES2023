{
 "cells": [
  {
   "cell_type": "code",
   "execution_count": 6,
   "id": "cf934e18-09dd-4746-a194-9f0906ac1c45",
   "metadata": {},
   "outputs": [
    {
     "name": "stdout",
     "output_type": "stream",
     "text": [
      "Hello World!\n"
     ]
    }
   ],
   "source": [
    "print(\"Hello World!\")"
   ]
  },
  {
   "cell_type": "code",
   "execution_count": 109,
   "id": "4e9ad27b-22f8-4937-962d-78596811ad59",
   "metadata": {
    "tags": []
   },
   "outputs": [
    {
     "name": "stdout",
     "output_type": "stream",
     "text": [
      "chance of getting sick: 47\n",
      "Joe is: Susceptible\n",
      "chance of getting sick: 50\n",
      "Joe is: Susceptible\n",
      "chance of getting sick: 64\n",
      "Joe is: Susceptible\n",
      "chance of getting sick: 42\n",
      "Joe is: Susceptible\n",
      "chance of getting sick: 45\n",
      "Joe is: Susceptible\n",
      "chance of getting sick: 91\n",
      "Joe is: Susceptible\n",
      "chance of getting sick: 6\n",
      "Joe is: Infected\n",
      "Joe is sick, Day 0\n",
      "Joe is sick, Day 1\n",
      "Joe is sick, Day 2\n",
      "Joe is sick, Day 3\n",
      "Joe is sick, Day 4\n",
      "Joe is now  Recovered\n"
     ]
    }
   ],
   "source": [
    "import random\n",
    "\n",
    "## JOE not equal to joe\n",
    "\n",
    "## we need a variable to hold Joe's status\n",
    "\n",
    "status = \"Susceptible\"\n",
    "\n",
    "## we need a random number between 0 and 99\n",
    "\n",
    "while (status == \"Susceptible\"):\n",
    "\n",
    "    roll_my_dice = random.randint(0,99)\n",
    "\n",
    "    print (\"chance of getting sick:\", roll_my_dice)\n",
    "\n",
    "    if (roll_my_dice < 10 and status == \"Susceptible\"):\n",
    "        status = \"Infected\"\n",
    "\n",
    "    print(\"Joe is:\", status)\n",
    "\n",
    "    if (status == \"Infected\"):\n",
    "        for day in range(0,5):\n",
    "            print(\"Joe is sick, Day\", day)\n",
    "        \n",
    "status = \"Recovered\"\n",
    "print(\"Joe is now \", status)"
   ]
  },
  {
   "cell_type": "code",
   "execution_count": null,
   "id": "59b695b1-c899-421f-bd8e-b8390823d949",
   "metadata": {},
   "outputs": [],
   "source": []
  },
  {
   "cell_type": "code",
   "execution_count": 110,
   "id": "e31bd808-1937-4fe6-924f-f1f8c87993b1",
   "metadata": {},
   "outputs": [
    {
     "name": "stdout",
     "output_type": "stream",
     "text": [
      "Joe's chance of getting sick: 77\n",
      "Jane's chance of getting sick: 49\n",
      "Joe is: Susceptible\n",
      "Jane is Susceptible\n",
      "Joe's chance of getting sick: 22\n",
      "Jane's chance of getting sick: 49\n",
      "Joe is: Susceptible\n",
      "Jane is Susceptible\n",
      "Joe's chance of getting sick: 56\n",
      "Jane's chance of getting sick: 36\n",
      "Joe is: Susceptible\n",
      "Jane is Susceptible\n",
      "Joe's chance of getting sick: 34\n",
      "Jane's chance of getting sick: 34\n",
      "Joe is: Susceptible\n",
      "Jane is Susceptible\n",
      "Joe's chance of getting sick: 1\n",
      "Jane's chance of getting sick: 24\n",
      "Joe is: Infected\n",
      "Jane is Susceptible\n",
      "Joe is sick, Day 0\n",
      "Joe is sick, Day 1\n",
      "Joe is sick, Day 2\n",
      "Joe is sick, Day 3\n",
      "Joe is sick, Day 4\n",
      "Joe is now  Recovered\n",
      "Jane is now Recovered\n"
     ]
    }
   ],
   "source": [
    "import random\n",
    "\n",
    "## JOE not equal to joe\n",
    "\n",
    "## we need a variable to hold Joe's status\n",
    "\n",
    "status1 = \"Susceptible\"\n",
    "status2 = \"Susceptible\"\n",
    "roll_my_dice1 = random.randint(0,99)\n",
    "roll_my_dice2 = random.randint(0,99)\n",
    "\n",
    "\n",
    "## we need a random number between 0 and 99\n",
    "\n",
    "while (status1 == \"Susceptible\" and status2 == \"Susceptible\"):\n",
    "\n",
    "    roll_my_dice1 = random.randint(0,99)\n",
    "    roll_my_dice2 = random.randint(0,49)\n",
    "\n",
    "    print (\"Joe's chance of getting sick:\", roll_my_dice1)\n",
    "    print (\"Jane's chance of getting sick:\", roll_my_dice2)\n",
    "    if (roll_my_dice1 < 10 and status1 == \"Susceptible\"):\n",
    "        status1 = \"Infected\"\n",
    "    if (status2 == \"Susceptible\" and roll_my_dice2 < 10):\n",
    "        status2 = \"Infected\"\n",
    "    print(\"Joe is:\", status1)\n",
    "    print(\"Jane is\", status2)\n",
    "\n",
    "    if (status1 == \"Infected\"):\n",
    "        for day in range(0,5):\n",
    "            print(\"Joe is sick, Day\", day)\n",
    "            \n",
    "    if(status2 == \"Infected\"):\n",
    "        for day in range(0,5):\n",
    "            print(\"Jane is sick, Day\", day)\n",
    "        \n",
    "status1 = \"Recovered\"\n",
    "status2 = \"Recovered\"\n",
    "print(\"Joe is now \", status1)\n",
    "print(\"Jane is now\", status2)"
   ]
  },
  {
   "cell_type": "code",
   "execution_count": 151,
   "id": "6096dd88-30b4-4256-af4c-6e374943ffea",
   "metadata": {},
   "outputs": [],
   "source": [
    "class Person():\n",
    "    def __init__(self):\n",
    "        self.current_status = \"Susceptible\"\n",
    "        self.days_sick = 0\n",
    "        self.is_sick= False\n",
    "        self.is_innoculated = False\n",
    "        self.is_vaccinated = False;\n",
    "        \n",
    "    def mask_up(self):\n",
    "        self.is_masked = True\n",
    "        \n",
    "    def vaccinated_me(self)\n",
    "        self.is_vaccinated = True\n",
    "        \n",
    "    def get_status(self):\n",
    "        return self.current_status\n",
    "    \n",
    "    def set_status(self, new_status):\n",
    "        seld.current_status = new_status\n",
    "    \n",
    "    def infect(self, number_of_days):\n",
    "        self.is_sick = True\n",
    "        self.days_sick = number_of_days\n",
    "        self.current_status = \"Infected\"\n",
    "        \n",
    "    def update(self):\n",
    "        if(self.current_status == \"Infected\"):\n",
    "            self.days_sick = self.days_sick-1\n",
    "            \n",
    "            if(self.days_sick <= 0):\n",
    "                self.current_status = \"Recovered\"\n",
    "                self.is_sick = False\n",
    "                self.is_innoculated = True\n",
    "                \n",
    "        elif (self.current_status == \"Susceptible\"):\n",
    "            \n",
    "            roll = random.randint(0,100)\n",
    "            if(roll < 10 and not is_masked):\n",
    "                self.infect(5)\n",
    "            elif (roll < 5 and is_masked):\n",
    "                self.infect(5)\n",
    "            elif (roll < 3 and is_vaccinated):\n",
    "                self.infect(2)\n",
    "        \n",
    "    "
   ]
  },
  {
   "cell_type": "code",
   "execution_count": 112,
   "id": "84fa4549-403f-4d23-91c1-9df9ba6759b6",
   "metadata": {},
   "outputs": [
    {
     "name": "stdout",
     "output_type": "stream",
     "text": [
      "Susceptible\n",
      "False\n",
      "False\n",
      "0\n"
     ]
    }
   ],
   "source": [
    "joe = Person()\n",
    "print (joe.get_status())\n",
    "print (joe.is_sick)\n",
    "print (joe.is_innoculated)\n",
    "print (joe.days_sick)"
   ]
  },
  {
   "cell_type": "code",
   "execution_count": 113,
   "id": "063dfd5e-5b75-41a0-8a08-d996179a1458",
   "metadata": {},
   "outputs": [
    {
     "name": "stdout",
     "output_type": "stream",
     "text": [
      "Infected\n",
      "True\n",
      "False\n",
      "120\n"
     ]
    }
   ],
   "source": [
    "joe.infect(120)\n",
    "print (joe.get_status())\n",
    "print (joe.is_sick)\n",
    "print (joe.is_innoculated)\n",
    "print (joe.days_sick)"
   ]
  },
  {
   "cell_type": "code",
   "execution_count": 114,
   "id": "7bd4f0c2-b700-4e53-a3a6-287ff004d9c1",
   "metadata": {},
   "outputs": [
    {
     "name": "stdout",
     "output_type": "stream",
     "text": [
      "Days 1 Joe's Status: Susceptible\n",
      "Days 2 Joe's Status: Susceptible\n",
      "Days 3 Joe's Status: Susceptible\n",
      "Days 4 Joe's Status: Susceptible\n",
      "Days 5 Joe's Status: Susceptible\n",
      "Days 6 Joe's Status: Susceptible\n",
      "Days 7 Joe's Status: Susceptible\n",
      "Days 8 Joe's Status: Susceptible\n",
      "Days 9 Joe's Status: Susceptible\n",
      "Days 10 Joe's Status: Susceptible\n",
      "Days 11 Joe's Status: Susceptible\n",
      "Days 12 Joe's Status: Infected\n",
      "Days 13 Joe's Status: Infected\n",
      "Days 14 Joe's Status: Infected\n",
      "Days 15 Joe's Status: Infected\n",
      "Days 16 Joe's Status: Infected\n",
      "Days 16 Joe's Status: Recovered\n",
      "Run Complete\n"
     ]
    }
   ],
   "source": [
    "joe = Person()\n",
    "max_days_sick = 5\n",
    "days = 0\n",
    "\n",
    "while (joe.get_status() != \"Recovered\"):\n",
    "    days = days + 1\n",
    "    \n",
    "    \n",
    "    print(\"Days\", days, \"Joe's Status:\", joe.get_status())\n",
    "    \n",
    "    joe.update()\n",
    "    \n",
    "print(\"Days\", days, \"Joe's Status:\", joe.get_status())\n",
    "print(\"Run Complete\")"
   ]
  },
  {
   "cell_type": "code",
   "execution_count": 150,
   "id": "060510cb-f41a-4e2b-ac08-98c45baca840",
   "metadata": {},
   "outputs": [
    {
     "name": "stdout",
     "output_type": "stream",
     "text": [
      "Number of people in my population 20\n",
      "Infected\n",
      "Susceptible\n",
      "Susceptible\n",
      "Susceptible\n",
      "Susceptible\n",
      "Susceptible\n",
      "Susceptible\n",
      "Susceptible\n",
      "Susceptible\n",
      "Susceptible\n",
      "Susceptible\n",
      "Susceptible\n",
      "Susceptible\n",
      "Susceptible\n",
      "Susceptible\n",
      "Susceptible\n",
      "Susceptible\n",
      "Susceptible\n",
      "Susceptible\n",
      "Susceptible\n",
      "Patient Zero interacted with: 3\n",
      "Patient Zero interacted with: 4\n",
      "Patient Zero interacted with: 19\n",
      "Patient Zero interacted with: 0\n",
      "Patient Zero interacted with: 16\n",
      "Patient_Zero got someone sick!\n",
      "Patient_Zero got someone sick!\n",
      "Infected\n",
      "Susceptible\n",
      "Susceptible\n",
      "Infected\n",
      "Susceptible\n",
      "Susceptible\n",
      "Susceptible\n",
      "Susceptible\n",
      "Susceptible\n",
      "Susceptible\n",
      "Susceptible\n",
      "Susceptible\n",
      "Susceptible\n",
      "Susceptible\n",
      "Susceptible\n",
      "Susceptible\n",
      "Susceptible\n",
      "Susceptible\n",
      "Susceptible\n",
      "Susceptible\n"
     ]
    }
   ],
   "source": [
    "my_population = []\n",
    "n = 20\n",
    "\n",
    "\n",
    "for person_id in range(0, n):\n",
    "    generic_person = Person()\n",
    "    my_population.append(generic_person)\n",
    "##Let's check to see if the length of my population is 20    \n",
    "print(\"Number of people in my population\", len(my_population))\n",
    "\n",
    "my_population[0].infect(5)\n",
    "      \n",
    "for gp in my_population:\n",
    "    print(gp.get_status())\n",
    "\n",
    "patient_zero_interaction = []\n",
    "\n",
    "for number in range(0,5):\n",
    "    roll = random.randint(0,n-1)\n",
    "    print(\"Patient Zero interacted with:\", roll)\n",
    "     \n",
    "    \n",
    "    patient_zero_interaction.append(my_population[roll])\n",
    "    \n",
    "for person in patient_zero_interaction:\n",
    "    person.update()\n",
    "    if(person.get_status() == \"Infected\"):\n",
    "        print(\"Patient_Zero got someone sick!\")\n",
    "        \n",
    "for person in my_population:\n",
    "    print(person.get_status())\n",
    "    "
   ]
  },
  {
   "cell_type": "markdown",
   "id": "5195f5f3-2536-4a47-976c-be67a9cde522",
   "metadata": {},
   "source": [
    "# Our population object\n",
    "\n",
    "## Attributes\n",
    "### Population_Size\n",
    "### Infection_Rate\n",
    "### Recovery_Rate\n",
    "### Number_of_Interaction\n",
    "### Masks\n",
    "#### If a person is masked, then they have a different Recovery Rate\n",
    "#### We would have to modify our "
   ]
  },
  {
   "cell_type": "code",
   "execution_count": null,
   "id": "89368a41-2bfb-494e-83b7-46d33a8c72f4",
   "metadata": {},
   "outputs": [],
   "source": []
  },
  {
   "cell_type": "code",
   "execution_count": null,
   "id": "24a545f5-de93-4367-b01d-2417cbd11a85",
   "metadata": {},
   "outputs": [],
   "source": []
  }
 ],
 "metadata": {
  "IMAGE_NAME": "taccsciapps/ds-nb-img:base-0.1.1",
  "UUID": "c67ecc5c-0498-11ee-b111-0e9703c67ef9",
  "kernelspec": {
   "display_name": "Python 3 (ipykernel)",
   "language": "python",
   "name": "python3"
  },
  "language_info": {
   "codemirror_mode": {
    "name": "ipython",
    "version": 3
   },
   "file_extension": ".py",
   "mimetype": "text/x-python",
   "name": "python",
   "nbconvert_exporter": "python",
   "pygments_lexer": "ipython3",
   "version": "3.9.10"
  }
 },
 "nbformat": 4,
 "nbformat_minor": 5
}
